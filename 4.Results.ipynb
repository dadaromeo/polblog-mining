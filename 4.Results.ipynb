{
 "cells": [
  {
   "cell_type": "code",
   "execution_count": null,
   "metadata": {
    "collapsed": true
   },
   "outputs": [],
   "source": [
    "%matplotlib inline"
   ]
  },
  {
   "cell_type": "code",
   "execution_count": null,
   "metadata": {
    "collapsed": true
   },
   "outputs": [],
   "source": [
    "from datetime import datetime as dt"
   ]
  },
  {
   "cell_type": "code",
   "execution_count": null,
   "metadata": {
    "collapsed": true
   },
   "outputs": [],
   "source": [
    "import numpy as np\n",
    "import pandas as pd\n",
    "import matplotlib.pyplot as plt"
   ]
  },
  {
   "cell_type": "code",
   "execution_count": null,
   "metadata": {
    "collapsed": true
   },
   "outputs": [],
   "source": [
    "from gensim.corpora import MmCorpus\n",
    "from gensim.models import LdaModel"
   ]
  },
  {
   "cell_type": "code",
   "execution_count": null,
   "metadata": {
    "collapsed": true
   },
   "outputs": [],
   "source": [
    "plt.style.use(\"ggplot\")"
   ]
  },
  {
   "cell_type": "code",
   "execution_count": null,
   "metadata": {
    "collapsed": true
   },
   "outputs": [],
   "source": [
    "lda = LdaModel.load(\"data/jdc-lda-model\")\n",
    "corpus = MmCorpus(\"data/jdc-corpus.mm\")"
   ]
  },
  {
   "cell_type": "code",
   "execution_count": null,
   "metadata": {
    "collapsed": true
   },
   "outputs": [],
   "source": [
    "def show_topics(model, num_topics=10, num_words=10, labels=None):\n",
    "    \n",
    "    df = pd.DataFrame(index=range(num_words))\n",
    "    \n",
    "    for tid, topic, in model.show_topics(num_topics, num_words, formatted=False):\n",
    "        words, _ = zip(*topic)\n",
    "        if labels:\n",
    "            df[labels[tid]] = words\n",
    "        else:\n",
    "            df[\"Topic %d\" % (tid + 1)] = words\n",
    "    \n",
    "    return df"
   ]
  },
  {
   "cell_type": "code",
   "execution_count": null,
   "metadata": {},
   "outputs": [],
   "source": [
    "show_topics(lda)"
   ]
  },
  {
   "cell_type": "code",
   "execution_count": null,
   "metadata": {},
   "outputs": [],
   "source": [
    "labels = [\"AngloCrisis\", \"CamairCo\", \"BokoHaram\"]\n",
    "show_topics(lda, labels=labels)"
   ]
  },
  {
   "cell_type": "code",
   "execution_count": null,
   "metadata": {
    "collapsed": true
   },
   "outputs": [],
   "source": [
    "def topic_by_post(model, corpus, labels=None):\n",
    "    \n",
    "    date = np.load(\"data/jdc-date.npy\")\n",
    "    data = {0:[], 1:[], 2:[]}\n",
    "    \n",
    "    for bow in corpus:\n",
    "        score = dict(model[bow])\n",
    "        tid = max(score, key=lambda k: score[k])\n",
    "        \n",
    "        for id in [0, 1, 2]:\n",
    "            if id == tid:\n",
    "                match = int(score.get(tid) > .5)\n",
    "            else:\n",
    "                match = 0\n",
    "            data[id].append(match)\n",
    "        \n",
    "    df = pd.DataFrame(data, index=date)\n",
    "    if labels:\n",
    "        df.columns = labels\n",
    "        \n",
    "    return df"
   ]
  },
  {
   "cell_type": "code",
   "execution_count": null,
   "metadata": {},
   "outputs": [],
   "source": [
    "topics = topic_by_post(lda, corpus, labels=labels)\n",
    "\n",
    "weekly = topics.resample(\"W\", closed=\"left\", label=\"left\").sum()\n",
    "weekly"
   ]
  },
  {
   "cell_type": "code",
   "execution_count": null,
   "metadata": {
    "collapsed": true
   },
   "outputs": [],
   "source": [
    "def plot_topic_evolution(df, rot=45):\n",
    "    \n",
    "    ctime = lambda ts: re.sub(\"\\d+:\\d+:\\d+ \", \"\", ts.ctime())[4:]\n",
    "    labels = map(ctime, df.index)\n",
    "    \n",
    "    fig = plt.figure(figsize=(15,6))\n",
    "    ax = fig.add_subplot(111)\n",
    "    ax.set_title(\"Topic evolution (no overlap)\")\n",
    "    df.plot.bar(ax=ax, rot=rot)\n",
    "    ax.set_xticklabels(labels)"
   ]
  },
  {
   "cell_type": "code",
   "execution_count": null,
   "metadata": {},
   "outputs": [],
   "source": [
    "plot_topic_evolution(weekly)"
   ]
  }
 ],
 "metadata": {
  "kernelspec": {
   "display_name": "Python 3",
   "language": "python",
   "name": "python3"
  },
  "language_info": {
   "codemirror_mode": {
    "name": "ipython",
    "version": 3
   },
   "file_extension": ".py",
   "mimetype": "text/x-python",
   "name": "python",
   "nbconvert_exporter": "python",
   "pygments_lexer": "ipython3",
   "version": "3.6.1"
  }
 },
 "nbformat": 4,
 "nbformat_minor": 2
}

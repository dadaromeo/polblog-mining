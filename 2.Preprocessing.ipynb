{
 "cells": [
  {
   "cell_type": "code",
   "execution_count": null,
   "metadata": {
    "collapsed": true
   },
   "outputs": [],
   "source": [
    "import json\n",
    "from datetime import datetime as dt"
   ]
  },
  {
   "cell_type": "code",
   "execution_count": null,
   "metadata": {
    "collapsed": true
   },
   "outputs": [],
   "source": [
    "import spacy\n",
    "import numpy as np\n",
    "from spacy.en import STOP_WORDS"
   ]
  },
  {
   "cell_type": "code",
   "execution_count": null,
   "metadata": {
    "collapsed": true
   },
   "outputs": [],
   "source": [
    "fmt = \"%Y-%m-%d %H:%M\""
   ]
  },
  {
   "cell_type": "code",
   "execution_count": null,
   "metadata": {
    "collapsed": true
   },
   "outputs": [],
   "source": [
    "date, texts = zip(*[(dt.strptime(p[\"published\"], fmt), p[\"text\"]) for p in json.load(open(\"data/jdc-raw.en.json\"))])"
   ]
  },
  {
   "cell_type": "code",
   "execution_count": null,
   "metadata": {},
   "outputs": [],
   "source": [
    "np.save(\"data/jdc-date\", np.array(date, dtype=np.datetime64))"
   ]
  },
  {
   "cell_type": "code",
   "execution_count": null,
   "metadata": {
    "collapsed": true
   },
   "outputs": [],
   "source": [
    "nlp = spacy.load(\"en\")"
   ]
  },
  {
   "cell_type": "code",
   "execution_count": null,
   "metadata": {
    "collapsed": true
   },
   "outputs": [],
   "source": [
    "def transform_doc(doc):\n",
    "    \n",
    "    def is_ent(ent):\n",
    "        tag = ent.root.ent_type_ or ent.root.pos_\n",
    "        \n",
    "        cond = not((tag == \"DATE\") or ent.root.is_space or ent.root.like_num or ent.root.is_punct)\n",
    "        return cond\n",
    "    \n",
    "    tokens = []\n",
    "    for ent in doc.noun_chunks:\n",
    "        if len(ent) == 1 and ent.lower_ in list(STOP_WORDS) + [\"cameroon\"]:\n",
    "            continue\n",
    "        \n",
    "        if len(ent) > 1 and ent[0].lower_ in STOP_WORDS:\n",
    "            ent = ent[1:]\n",
    "        tokens.append(ent)\n",
    "    \n",
    "    return [token.lower_ for token in tokens if is_ent(token)]\n",
    "\n",
    "def transform_texts(texts, out_file):\n",
    "    \n",
    "    out = open(out_file, \"w\")\n",
    "    for text in texts:\n",
    "        doc = nlp(text)\n",
    "        line = \", \".join(transform_doc(doc)) + \"\\n\"\n",
    "        out.write(line)\n",
    "    \n",
    "    out.close()"
   ]
  },
  {
   "cell_type": "code",
   "execution_count": null,
   "metadata": {
    "collapsed": true
   },
   "outputs": [],
   "source": [
    "raw = texts[0]\n",
    "doc = nlp(raw)\n",
    "\n",
    "tokens = transform_doc(doc)"
   ]
  },
  {
   "cell_type": "code",
   "execution_count": null,
   "metadata": {},
   "outputs": [],
   "source": [
    "print(raw)"
   ]
  },
  {
   "cell_type": "code",
   "execution_count": null,
   "metadata": {},
   "outputs": [],
   "source": [
    "print(\" \".join(tokens))"
   ]
  },
  {
   "cell_type": "code",
   "execution_count": null,
   "metadata": {
    "collapsed": true
   },
   "outputs": [],
   "source": [
    "transform_texts(texts, \"data/jdc-tokens.en.text\")"
   ]
  }
 ],
 "metadata": {
  "kernelspec": {
   "display_name": "Python 3",
   "language": "python",
   "name": "python3"
  },
  "language_info": {
   "codemirror_mode": {
    "name": "ipython",
    "version": 3
   },
   "file_extension": ".py",
   "mimetype": "text/x-python",
   "name": "python",
   "nbconvert_exporter": "python",
   "pygments_lexer": "ipython3",
   "version": "3.6.1"
  }
 },
 "nbformat": 4,
 "nbformat_minor": 2
}
